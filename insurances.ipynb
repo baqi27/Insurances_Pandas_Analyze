{
 "cells": [
  {
   "cell_type": "code",
   "execution_count": 1,
   "id": "2862121d",
   "metadata": {},
   "outputs": [],
   "source": [
    "import pandas as pd\n",
    "import numpy as np\n",
    "import matplotlib as plt"
   ]
  },
  {
   "cell_type": "code",
   "execution_count": 2,
   "id": "6e0781ef",
   "metadata": {},
   "outputs": [],
   "source": [
    "df=pd.read_csv('insurance.csv')\n",
    "filtr=df[\"charges\"]<=12000"
   ]
  },
  {
   "cell_type": "code",
   "execution_count": 3,
   "id": "61a36eff",
   "metadata": {},
   "outputs": [
    {
     "name": "stdout",
     "output_type": "stream",
     "text": [
      "<class 'pandas.core.frame.DataFrame'>\n",
      "Int64Index: 846 entries, 1 to 1336\n",
      "Data columns (total 7 columns):\n",
      " #   Column    Non-Null Count  Dtype  \n",
      "---  ------    --------------  -----  \n",
      " 0   age       846 non-null    float64\n",
      " 1   sex       846 non-null    object \n",
      " 2   bmi       846 non-null    float64\n",
      " 3   children  846 non-null    float64\n",
      " 4   smoker    846 non-null    object \n",
      " 5   region    846 non-null    object \n",
      " 6   charges   846 non-null    float64\n",
      "dtypes: float64(4), object(3)\n",
      "memory usage: 52.9+ KB\n"
     ]
    }
   ],
   "source": [
    "df=df.where(filtr)\n",
    "df.dropna(inplace=True)\n",
    "df.info()"
   ]
  },
  {
   "cell_type": "code",
   "execution_count": 4,
   "id": "1b2aae17",
   "metadata": {},
   "outputs": [],
   "source": [
    "def smoker_swap(sample):\n",
    "    if sample == \"yes\": \n",
    "        return 1\n",
    "    else: \n",
    "        return 0"
   ]
  },
  {
   "cell_type": "code",
   "execution_count": 5,
   "id": "24733ea0",
   "metadata": {},
   "outputs": [],
   "source": [
    "df[\"smoker\"]=df[\"smoker\"].apply(smoker_swap)\n"
   ]
  },
  {
   "cell_type": "code",
   "execution_count": 6,
   "id": "8d1a1f29",
   "metadata": {},
   "outputs": [],
   "source": [
    "def sex_swap(sample):\n",
    "    if sample == \"male\":\n",
    "        return 1\n",
    "    else: \n",
    "        return 0"
   ]
  },
  {
   "cell_type": "code",
   "execution_count": 7,
   "id": "2397f8a3",
   "metadata": {},
   "outputs": [],
   "source": [
    "df[\"sex\"]=df[\"sex\"].apply(sex_swap)"
   ]
  },
  {
   "cell_type": "code",
   "execution_count": 8,
   "id": "cb7989fd",
   "metadata": {},
   "outputs": [
    {
     "data": {
      "text/html": [
       "<div>\n",
       "<style scoped>\n",
       "    .dataframe tbody tr th:only-of-type {\n",
       "        vertical-align: middle;\n",
       "    }\n",
       "\n",
       "    .dataframe tbody tr th {\n",
       "        vertical-align: top;\n",
       "    }\n",
       "\n",
       "    .dataframe thead th {\n",
       "        text-align: right;\n",
       "    }\n",
       "</style>\n",
       "<table border=\"1\" class=\"dataframe\">\n",
       "  <thead>\n",
       "    <tr style=\"text-align: right;\">\n",
       "      <th></th>\n",
       "      <th>age</th>\n",
       "      <th>sex</th>\n",
       "      <th>bmi</th>\n",
       "      <th>children</th>\n",
       "      <th>smoker</th>\n",
       "      <th>region</th>\n",
       "      <th>charges</th>\n",
       "    </tr>\n",
       "  </thead>\n",
       "  <tbody>\n",
       "  </tbody>\n",
       "</table>\n",
       "</div>"
      ],
      "text/plain": [
       "Empty DataFrame\n",
       "Columns: [age, sex, bmi, children, smoker, region, charges]\n",
       "Index: []"
      ]
     },
     "execution_count": 8,
     "metadata": {},
     "output_type": "execute_result"
    }
   ],
   "source": [
    "dfs=df[df[\"smoker\"]==1]\n",
    "dfs.sort_values(by=\"charges\")\n",
    "# Na wysokość składki palenie zaczyna mieć wpływ dopiero od 12829 $"
   ]
  },
  {
   "cell_type": "code",
   "execution_count": 9,
   "id": "6c0c8daa",
   "metadata": {},
   "outputs": [],
   "source": [
    "df2=pd.get_dummies(df[\"region\"])"
   ]
  },
  {
   "cell_type": "code",
   "execution_count": 10,
   "id": "49d17309",
   "metadata": {},
   "outputs": [],
   "source": [
    "df=df.join(df2)"
   ]
  },
  {
   "cell_type": "code",
   "execution_count": 11,
   "id": "3da4c3f0",
   "metadata": {},
   "outputs": [
    {
     "data": {
      "text/plain": [
       "Index(['age', 'sex', 'bmi', 'children', 'smoker', 'region', 'charges',\n",
       "       'northeast', 'northwest', 'southeast', 'southwest'],\n",
       "      dtype='object')"
      ]
     },
     "execution_count": 11,
     "metadata": {},
     "output_type": "execute_result"
    }
   ],
   "source": [
    "df.columns"
   ]
  },
  {
   "cell_type": "code",
   "execution_count": 12,
   "id": "c5537279",
   "metadata": {},
   "outputs": [],
   "source": [
    "df=df[['age', 'sex', 'bmi', 'children', 'smoker', 'region', \n",
    "       'northeast', 'northwest', 'southeast', 'southwest','charges']]"
   ]
  },
  {
   "cell_type": "code",
   "execution_count": 13,
   "id": "d8dfc548",
   "metadata": {},
   "outputs": [],
   "source": [
    "df_cor= df[['age', 'sex', 'bmi', 'children', 'smoker',\n",
    "       'northeast', 'northwest', 'southeast', 'southwest','charges']]"
   ]
  },
  {
   "cell_type": "code",
   "execution_count": 14,
   "id": "c48a5a86",
   "metadata": {},
   "outputs": [
    {
     "data": {
      "text/html": [
       "<div>\n",
       "<style scoped>\n",
       "    .dataframe tbody tr th:only-of-type {\n",
       "        vertical-align: middle;\n",
       "    }\n",
       "\n",
       "    .dataframe tbody tr th {\n",
       "        vertical-align: top;\n",
       "    }\n",
       "\n",
       "    .dataframe thead th {\n",
       "        text-align: right;\n",
       "    }\n",
       "</style>\n",
       "<table border=\"1\" class=\"dataframe\">\n",
       "  <thead>\n",
       "    <tr style=\"text-align: right;\">\n",
       "      <th></th>\n",
       "      <th>age</th>\n",
       "      <th>sex</th>\n",
       "      <th>bmi</th>\n",
       "      <th>children</th>\n",
       "      <th>smoker</th>\n",
       "      <th>northeast</th>\n",
       "      <th>northwest</th>\n",
       "      <th>southeast</th>\n",
       "      <th>southwest</th>\n",
       "      <th>charges</th>\n",
       "    </tr>\n",
       "  </thead>\n",
       "  <tbody>\n",
       "    <tr>\n",
       "      <th>1</th>\n",
       "      <td>18.0</td>\n",
       "      <td>1</td>\n",
       "      <td>33.77</td>\n",
       "      <td>1.0</td>\n",
       "      <td>0</td>\n",
       "      <td>0</td>\n",
       "      <td>0</td>\n",
       "      <td>1</td>\n",
       "      <td>0</td>\n",
       "      <td>1725.5523</td>\n",
       "    </tr>\n",
       "    <tr>\n",
       "      <th>2</th>\n",
       "      <td>28.0</td>\n",
       "      <td>1</td>\n",
       "      <td>33.00</td>\n",
       "      <td>3.0</td>\n",
       "      <td>0</td>\n",
       "      <td>0</td>\n",
       "      <td>0</td>\n",
       "      <td>1</td>\n",
       "      <td>0</td>\n",
       "      <td>4449.4620</td>\n",
       "    </tr>\n",
       "    <tr>\n",
       "      <th>4</th>\n",
       "      <td>32.0</td>\n",
       "      <td>1</td>\n",
       "      <td>28.88</td>\n",
       "      <td>0.0</td>\n",
       "      <td>0</td>\n",
       "      <td>0</td>\n",
       "      <td>1</td>\n",
       "      <td>0</td>\n",
       "      <td>0</td>\n",
       "      <td>3866.8552</td>\n",
       "    </tr>\n",
       "    <tr>\n",
       "      <th>5</th>\n",
       "      <td>31.0</td>\n",
       "      <td>0</td>\n",
       "      <td>25.74</td>\n",
       "      <td>0.0</td>\n",
       "      <td>0</td>\n",
       "      <td>0</td>\n",
       "      <td>0</td>\n",
       "      <td>1</td>\n",
       "      <td>0</td>\n",
       "      <td>3756.6216</td>\n",
       "    </tr>\n",
       "    <tr>\n",
       "      <th>6</th>\n",
       "      <td>46.0</td>\n",
       "      <td>0</td>\n",
       "      <td>33.44</td>\n",
       "      <td>1.0</td>\n",
       "      <td>0</td>\n",
       "      <td>0</td>\n",
       "      <td>0</td>\n",
       "      <td>1</td>\n",
       "      <td>0</td>\n",
       "      <td>8240.5896</td>\n",
       "    </tr>\n",
       "  </tbody>\n",
       "</table>\n",
       "</div>"
      ],
      "text/plain": [
       "    age  sex    bmi  children  smoker  northeast  northwest  southeast  \\\n",
       "1  18.0    1  33.77       1.0       0          0          0          1   \n",
       "2  28.0    1  33.00       3.0       0          0          0          1   \n",
       "4  32.0    1  28.88       0.0       0          0          1          0   \n",
       "5  31.0    0  25.74       0.0       0          0          0          1   \n",
       "6  46.0    0  33.44       1.0       0          0          0          1   \n",
       "\n",
       "   southwest    charges  \n",
       "1          0  1725.5523  \n",
       "2          0  4449.4620  \n",
       "4          0  3866.8552  \n",
       "5          0  3756.6216  \n",
       "6          0  8240.5896  "
      ]
     },
     "execution_count": 14,
     "metadata": {},
     "output_type": "execute_result"
    }
   ],
   "source": [
    "df_cor.head()"
   ]
  },
  {
   "cell_type": "code",
   "execution_count": 15,
   "id": "271dde4d",
   "metadata": {},
   "outputs": [
    {
     "data": {
      "text/plain": [
       "Index(['age', 'sex', 'bmi', 'children', 'smoker', 'region', 'northeast',\n",
       "       'northwest', 'southeast', 'southwest', 'charges'],\n",
       "      dtype='object')"
      ]
     },
     "execution_count": 15,
     "metadata": {},
     "output_type": "execute_result"
    }
   ],
   "source": [
    "df.columns"
   ]
  },
  {
   "cell_type": "code",
   "execution_count": 16,
   "id": "3b45bef9",
   "metadata": {},
   "outputs": [
    {
     "ename": "NameError",
     "evalue": "name 'lista' is not defined",
     "output_type": "error",
     "traceback": [
      "\u001b[1;31m---------------------------------------------------------------------------\u001b[0m",
      "\u001b[1;31mNameError\u001b[0m                                 Traceback (most recent call last)",
      "Input \u001b[1;32mIn [16]\u001b[0m, in \u001b[0;36m<cell line: 11>\u001b[1;34m()\u001b[0m\n\u001b[0;32m      8\u001b[0m     \u001b[38;5;28;01mreturn\u001b[39;00m lista\n\u001b[0;32m      9\u001b[0m cols\u001b[38;5;241m=\u001b[39m [\u001b[38;5;124m'\u001b[39m\u001b[38;5;124mage\u001b[39m\u001b[38;5;124m'\u001b[39m,\u001b[38;5;124m'\u001b[39m\u001b[38;5;124msex\u001b[39m\u001b[38;5;124m'\u001b[39m,\u001b[38;5;124m'\u001b[39m\u001b[38;5;124mbmi\u001b[39m\u001b[38;5;124m'\u001b[39m, \u001b[38;5;124m'\u001b[39m\u001b[38;5;124mchildren\u001b[39m\u001b[38;5;124m'\u001b[39m, \u001b[38;5;124m'\u001b[39m\u001b[38;5;124msmoker\u001b[39m\u001b[38;5;124m'\u001b[39m, \u001b[38;5;124m'\u001b[39m\u001b[38;5;124mnortheast\u001b[39m\u001b[38;5;124m'\u001b[39m,\n\u001b[0;32m     10\u001b[0m        \u001b[38;5;124m'\u001b[39m\u001b[38;5;124mnorthwest\u001b[39m\u001b[38;5;124m'\u001b[39m, \u001b[38;5;124m'\u001b[39m\u001b[38;5;124msoutheast\u001b[39m\u001b[38;5;124m'\u001b[39m, \u001b[38;5;124m'\u001b[39m\u001b[38;5;124msouthwest\u001b[39m\u001b[38;5;124m'\u001b[39m]\n\u001b[1;32m---> 11\u001b[0m list_corr\u001b[38;5;241m=\u001b[39m\u001b[43mcorrelation\u001b[49m\u001b[43m(\u001b[49m\u001b[43mcols\u001b[49m\u001b[43m)\u001b[49m\n",
      "Input \u001b[1;32mIn [16]\u001b[0m, in \u001b[0;36mcorrelation\u001b[1;34m(kolumny)\u001b[0m\n\u001b[0;32m      6\u001b[0m     corr\u001b[38;5;241m=\u001b[39mdf_cor[\u001b[38;5;124m'\u001b[39m\u001b[38;5;124mcharges\u001b[39m\u001b[38;5;124m'\u001b[39m]\u001b[38;5;241m.\u001b[39mcorr(df_cor[col])\n\u001b[0;32m      7\u001b[0m     lista\u001b[38;5;241m.\u001b[39mappend(corr)\n\u001b[1;32m----> 8\u001b[0m \u001b[38;5;28;01mreturn\u001b[39;00m \u001b[43mlista\u001b[49m\n",
      "\u001b[1;31mNameError\u001b[0m: name 'lista' is not defined"
     ]
    }
   ],
   "source": [
    "\n",
    "def correlation (kolumny):\n",
    " \n",
    "    cols= []\n",
    "    \n",
    "    for col in cols:\n",
    "        corr=df_cor['charges'].corr(df_cor[col])\n",
    "        lista.append(corr)\n",
    "    return lista\n",
    "cols= ['age','sex','bmi', 'children', 'smoker', 'northeast',\n",
    "       'northwest', 'southeast', 'southwest']\n",
    "list_corr=correlation(cols)"
   ]
  },
  {
   "cell_type": "code",
   "execution_count": null,
   "id": "a528773e",
   "metadata": {},
   "outputs": [],
   "source": [
    "df_cor['charges'].corr(df_cor[\"sex\"])\n"
   ]
  },
  {
   "cell_type": "code",
   "execution_count": null,
   "id": "3182203f",
   "metadata": {},
   "outputs": [],
   "source": [
    "correlation=pd.DataFrame(lista,kolumny)\n",
    "correlation\n"
   ]
  },
  {
   "cell_type": "code",
   "execution_count": null,
   "id": "83231069",
   "metadata": {},
   "outputs": [],
   "source": [
    "correlation.plot(kind=\"bar\")"
   ]
  },
  {
   "cell_type": "code",
   "execution_count": null,
   "id": "e3f97f82",
   "metadata": {},
   "outputs": [],
   "source": [
    "\n",
    "x= df_cor[[\"age\",\"sex\",\"bmi\",\"children\",\"smoker\"]]\n",
    "y=df_cor[\"charges\"]"
   ]
  },
  {
   "cell_type": "code",
   "execution_count": null,
   "id": "009faa1f",
   "metadata": {},
   "outputs": [],
   "source": [
    "print(y)"
   ]
  },
  {
   "cell_type": "code",
   "execution_count": null,
   "id": "023e1531",
   "metadata": {},
   "outputs": [],
   "source": [
    "from sklearn.model_selection import train_test_split"
   ]
  },
  {
   "cell_type": "code",
   "execution_count": null,
   "id": "1dc9cadc",
   "metadata": {},
   "outputs": [],
   "source": [
    "X_train, X_test, y_train, y_test = train_test_split(df.drop(columns=[\"charges\",\"region\"]), y, test_size=0.3,random_state=1)"
   ]
  },
  {
   "cell_type": "code",
   "execution_count": null,
   "id": "2b381932",
   "metadata": {},
   "outputs": [],
   "source": [
    "cor_df= X_train.copy()\n",
    "cor_df[\"charges\"]=y_train.values"
   ]
  },
  {
   "cell_type": "code",
   "execution_count": null,
   "id": "4073b45e",
   "metadata": {},
   "outputs": [],
   "source": [
    "cor_df.head()"
   ]
  },
  {
   "cell_type": "code",
   "execution_count": null,
   "id": "628ebe97",
   "metadata": {},
   "outputs": [],
   "source": [
    "cor= cor_df.corr()\n",
    "cor"
   ]
  },
  {
   "cell_type": "code",
   "execution_count": null,
   "id": "4b032b13",
   "metadata": {},
   "outputs": [],
   "source": [
    "import seaborn as sns "
   ]
  },
  {
   "cell_type": "code",
   "execution_count": null,
   "id": "f1476754",
   "metadata": {},
   "outputs": [],
   "source": [
    "sns.heatmap(cor,annot=True)"
   ]
  },
  {
   "cell_type": "code",
   "execution_count": null,
   "id": "9ff653f6",
   "metadata": {},
   "outputs": [],
   "source": [
    "cor_df[\"charges\"].hist()"
   ]
  },
  {
   "cell_type": "code",
   "execution_count": null,
   "id": "436e8b2e",
   "metadata": {},
   "outputs": [],
   "source": [
    "from sklearn.linear_model import LinearRegression"
   ]
  },
  {
   "cell_type": "code",
   "execution_count": null,
   "id": "6b4820df",
   "metadata": {},
   "outputs": [],
   "source": [
    "model= LinearRegression()\n",
    "model.fit(X=X_train, y= y_train)\n"
   ]
  },
  {
   "cell_type": "code",
   "execution_count": null,
   "id": "88ce37a5",
   "metadata": {},
   "outputs": [],
   "source": [
    "pred_train= model.predict(X_train)\n",
    "pred_test = model.predict(X_test)"
   ]
  },
  {
   "cell_type": "code",
   "execution_count": null,
   "id": "fcd9fd51",
   "metadata": {},
   "outputs": [],
   "source": [
    "import matplotlib.pyplot as plt "
   ]
  },
  {
   "cell_type": "code",
   "execution_count": null,
   "id": "2fae1bec",
   "metadata": {},
   "outputs": [],
   "source": [
    "x_range= list(range(len (pred_train)))\n",
    "plt.scatter(x_range,y_train)\n",
    "plt.scatter(x_range,pred_train)\n",
    "plt.title(\"real vs pred\")\n",
    "plt.legend([\"real\",\"pred\"])"
   ]
  },
  {
   "cell_type": "code",
   "execution_count": null,
   "id": "13f5c303",
   "metadata": {},
   "outputs": [],
   "source": [
    "from sklearn.metrics import mean_squared_error, r2_score"
   ]
  },
  {
   "cell_type": "code",
   "execution_count": null,
   "id": "b1a365b6",
   "metadata": {},
   "outputs": [],
   "source": [
    "print(mean_squared_error(y_train, pred_train,squared=False))"
   ]
  },
  {
   "cell_type": "code",
   "execution_count": null,
   "id": "a77af8d8",
   "metadata": {},
   "outputs": [],
   "source": [
    "x_predict=model.predict(X_test)\n",
    "x_predict.shape"
   ]
  },
  {
   "cell_type": "code",
   "execution_count": null,
   "id": "5731714c",
   "metadata": {},
   "outputs": [],
   "source": [
    "#from sklearn.metrics import confusion_matrix\n",
    "#confusion_matrix(y_test, x_predict)"
   ]
  },
  {
   "cell_type": "code",
   "execution_count": null,
   "id": "cd9bb519",
   "metadata": {},
   "outputs": [],
   "source": [
    "# ograniczyc wartosci do 20000, wybór cech, funkcja wizualizacja i blad, "
   ]
  },
  {
   "cell_type": "code",
   "execution_count": null,
   "id": "8235a2d5",
   "metadata": {},
   "outputs": [],
   "source": [
    "df_higher=pd.read_csv(\"insurance.csv\")\n",
    "df_higher1=df_higher[\"charges\"]>=16000\n",
    "df_higher2=df_higher[\"charges\"]<=30000\n",
    "df_higher= df_higher[df_higher1 & df_higher2]\n"
   ]
  },
  {
   "cell_type": "code",
   "execution_count": null,
   "id": "fab3975e",
   "metadata": {},
   "outputs": [],
   "source": [
    "df_higher[\"sex\"]=df_higher[\"sex\"].apply(sex_swap)\n",
    "df_higher[\"smoker\"]=df_higher[\"smoker\"].apply(smoker_swap)\n",
    "df_higher2=pd.get_dummies(df_higher[\"region\"])\n",
    "df_higher2.head()\n",
    "df_higher=df_higher.join(df_higher2)\n",
    "df_higher.head()\n"
   ]
  },
  {
   "cell_type": "code",
   "execution_count": null,
   "id": "5be9872c",
   "metadata": {},
   "outputs": [],
   "source": [
    "df_h_cor= df_higher[['age', 'sex', 'bmi', 'children', 'smoker',\n",
    "       'northeast', 'northwest', 'southeast', 'southwest','charges']]\n",
    "df_h_cor.head()"
   ]
  },
  {
   "cell_type": "code",
   "execution_count": null,
   "id": "c3a6f895",
   "metadata": {},
   "outputs": [],
   "source": [
    "A= df_h_cor[[\"age\",\"sex\",\"bmi\",\"children\",\"smoker\"]]\n",
    "b=df_h_cor[\"charges\"]"
   ]
  },
  {
   "cell_type": "code",
   "execution_count": null,
   "id": "7215b0e8",
   "metadata": {},
   "outputs": [],
   "source": [
    "A_train, A_test, b_train, b_test = train_test_split(df_h_cor.drop(columns=[\"charges\"]), b, test_size=0.3,random_state=1)"
   ]
  },
  {
   "cell_type": "code",
   "execution_count": null,
   "id": "c74f35f6",
   "metadata": {},
   "outputs": [],
   "source": [
    "cor_df2= A_train.copy()\n",
    "cor_df2[\"charges\"]=b_train.values"
   ]
  },
  {
   "cell_type": "code",
   "execution_count": null,
   "id": "a9549616",
   "metadata": {},
   "outputs": [],
   "source": [
    "cor2= cor_df2.corr()\n",
    "cor2"
   ]
  },
  {
   "cell_type": "code",
   "execution_count": null,
   "id": "3fd002db",
   "metadata": {},
   "outputs": [],
   "source": [
    "sns.heatmap(cor2,annot=True)"
   ]
  },
  {
   "cell_type": "code",
   "execution_count": null,
   "id": "f59bd471",
   "metadata": {},
   "outputs": [],
   "source": [
    "cor_df2[\"charges\"].hist()"
   ]
  },
  {
   "cell_type": "code",
   "execution_count": null,
   "id": "255e1456",
   "metadata": {},
   "outputs": [],
   "source": [
    "model2= LinearRegression()\n",
    "model2.fit(X=A_train, y= b_train)"
   ]
  },
  {
   "cell_type": "code",
   "execution_count": null,
   "id": "3296378d",
   "metadata": {},
   "outputs": [],
   "source": [
    "pred_train2= model2.predict(A_train)\n",
    "pred_test2 = model2.predict(A_test)"
   ]
  },
  {
   "cell_type": "code",
   "execution_count": null,
   "id": "9158cc81",
   "metadata": {},
   "outputs": [],
   "source": [
    "a_range= list(range(len (pred_train2)))\n",
    "plt.scatter(a_range,b_train)\n",
    "plt.scatter(a_range,pred_train2)\n",
    "plt.title(\"real vs pred\")\n",
    "plt.legend([\"real\",\"pred\"])"
   ]
  },
  {
   "cell_type": "code",
   "execution_count": null,
   "id": "70ad6acf",
   "metadata": {},
   "outputs": [],
   "source": [
    "print(mean_squared_error(b_train, pred_train2,squared=False))"
   ]
  },
  {
   "cell_type": "code",
   "execution_count": null,
   "id": "58736d45",
   "metadata": {},
   "outputs": [],
   "source": [
    "def reggresion_results(y_real,y_pred,title):\n",
    "    plt.figure()\n",
    "    data_range= list(range(len (y_real)))\n",
    "    plt.scatter(data_range,y_real)\n",
    "    plt.scatter(data_range,y_pred)\n",
    "    plt.title(title)\n",
    "    plt.legend([\"real\",\"pred\"])\n",
    "    \n",
    "    mse = mean_squared_error(y_real, y_pred,squared=True)                \n",
    "    rmse = mean_squared_error(y_real, y_pred,squared=False)      \n",
    "    r2_scored= r2_score(y_real, y_pred)                \n",
    "    print(f\"mse:{mse},\\nrmse:{rmse},\\nr2_score:{r2_scored}\")\n",
    "reggresion_results(b_test, pred_test2, \"test vs pred\")                     "
   ]
  }
 ],
 "metadata": {
  "kernelspec": {
   "display_name": "Python 3 (ipykernel)",
   "language": "python",
   "name": "python3"
  },
  "language_info": {
   "codemirror_mode": {
    "name": "ipython",
    "version": 3
   },
   "file_extension": ".py",
   "mimetype": "text/x-python",
   "name": "python",
   "nbconvert_exporter": "python",
   "pygments_lexer": "ipython3",
   "version": "3.9.13"
  }
 },
 "nbformat": 4,
 "nbformat_minor": 5
}
